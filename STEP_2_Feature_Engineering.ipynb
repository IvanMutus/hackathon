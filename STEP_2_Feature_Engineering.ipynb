{
 "cells": [
  {
   "cell_type": "markdown",
   "metadata": {},
   "source": [
    "В каждой строке через пробел перечислены следующие данные:\n",
    "\n",
    "Время, чч:мм:сс\n",
    "\n",
    "Идентификатор трека (id)\n",
    "\n",
    "Широта, градусы с десятичной дробной частью\n",
    "\n",
    "Долгота, градусы с десятичной дробной частью\n",
    "\n",
    "Высота, м\n",
    "\n",
    "Код ответчика\n",
    "\n",
    "Позывной\n"
   ]
  },
  {
   "cell_type": "code",
   "execution_count": 1,
   "metadata": {},
   "outputs": [],
   "source": [
    "import pandas as pd\n",
    "import os\n",
    "from tqdm import tqdm\n",
    "import seaborn as sns\n",
    "import numpy as np\n",
    "import matplotlib.pyplot as plt"
   ]
  },
  {
   "cell_type": "code",
   "execution_count": 2,
   "metadata": {},
   "outputs": [],
   "source": [
    "bads =  ['BadTracksHackaton1801.txt',\n",
    "         'BadTracksHackaton2101.txt',\n",
    "         'BadTracksHackaton2301.txt'\n",
    "         ]\n",
    "\n",
    "goods = ['GoodTracksHackaton1801.txt',\n",
    "         'GoodTracksHackaton2101.txt',\n",
    "         'GoodTracksHackaton2301.txt']"
   ]
  },
  {
   "cell_type": "code",
   "execution_count": 3,
   "metadata": {},
   "outputs": [],
   "source": [
    "bad = pd.concat((pd.read_csv(f, sep=' ', names=['time',\n",
    "                                              'track_id',\n",
    "                                              'latitude',\n",
    "                                              'longitude',\n",
    "                                              'height',\n",
    "                                              'code',\n",
    "                                              'name']) for f in bads), ignore_index=True)\n",
    "bad['seconds'] = pd.to_timedelta(bad['time']).dt.total_seconds().astype(int)\n",
    "\n",
    "\n",
    "good = pd.concat((pd.read_csv(f, sep=' ', names=['time',\n",
    "                                              'track_id',\n",
    "                                              'latitude',\n",
    "                                              'longitude',\n",
    "                                              'height',\n",
    "                                              'code',\n",
    "                                              'name']) for f in goods), ignore_index=True)\n",
    "good['seconds'] = pd.to_timedelta(good['time']).dt.total_seconds().astype(int)\n"
   ]
  },
  {
   "cell_type": "code",
   "execution_count": 4,
   "metadata": {},
   "outputs": [
    {
     "name": "stdout",
     "output_type": "stream",
     "text": [
      "<class 'pandas.core.frame.DataFrame'>\n",
      "RangeIndex: 1753454 entries, 0 to 1753453\n",
      "Data columns (total 8 columns):\n",
      " #   Column     Non-Null Count    Dtype  \n",
      "---  ------     --------------    -----  \n",
      " 0   time       1753454 non-null  object \n",
      " 1   track_id   1753454 non-null  int64  \n",
      " 2   latitude   1753454 non-null  float64\n",
      " 3   longitude  1753454 non-null  float64\n",
      " 4   height     1753454 non-null  int64  \n",
      " 5   code       1691187 non-null  float64\n",
      " 6   name       1536240 non-null  object \n",
      " 7   seconds    1753454 non-null  int64  \n",
      "dtypes: float64(3), int64(3), object(2)\n",
      "memory usage: 107.0+ MB\n"
     ]
    }
   ],
   "source": [
    "bad.info(verbose=True, show_counts=True)"
   ]
  },
  {
   "cell_type": "code",
   "execution_count": 5,
   "metadata": {
    "scrolled": true
   },
   "outputs": [
    {
     "name": "stdout",
     "output_type": "stream",
     "text": [
      "<class 'pandas.core.frame.DataFrame'>\n",
      "RangeIndex: 1850653 entries, 0 to 1850652\n",
      "Data columns (total 8 columns):\n",
      " #   Column     Non-Null Count    Dtype  \n",
      "---  ------     --------------    -----  \n",
      " 0   time       1850653 non-null  object \n",
      " 1   track_id   1850653 non-null  int64  \n",
      " 2   latitude   1850653 non-null  float64\n",
      " 3   longitude  1850653 non-null  float64\n",
      " 4   height     1850653 non-null  int64  \n",
      " 5   code       1850202 non-null  float64\n",
      " 6   name       1127100 non-null  object \n",
      " 7   seconds    1850653 non-null  int64  \n",
      "dtypes: float64(3), int64(3), object(2)\n",
      "memory usage: 113.0+ MB\n"
     ]
    }
   ],
   "source": [
    "good.info(verbose=True, show_counts=True)"
   ]
  },
  {
   "cell_type": "code",
   "execution_count": 107,
   "metadata": {},
   "outputs": [],
   "source": [
    "# СБОРКА МИНИМАЛЬНОГО НАБОРА ФИЧЕЙ\n",
    "def make_dataset(df):\n",
    "    \n",
    "    df = df[~df.name.isna()]\n",
    "    \n",
    "    df['date_time'] = pd.to_datetime(df['time'])\n",
    "    \n",
    "    # добавляем период дня\n",
    "    df['period'] = (df['date_time'].dt.hour % 24 + 4) // 4\n",
    "    df['period'].replace({1: 'Late Night',\n",
    "                          2: 'Early Morning',\n",
    "                          3: 'Morning',\n",
    "                          4: 'Noon',\n",
    "                          5: 'Evening',\n",
    "                          6: 'Night'}, inplace=True)\n",
    "    \n",
    "    # добавляем порядковый номер\n",
    "    df = df.sort_values(by=['track_id', 'code', 'name', 'seconds'])\n",
    "    df['group_num'] = df.groupby(['track_id','code', 'name']).cumcount()\n",
    "    \n",
    "    # добавляем время от начала трека полета\n",
    "    to_merge = df[(df.group_num == 0)\n",
    "                    &(df.seconds>1)][['track_id',  'code', 'name', 'seconds']]\n",
    "\n",
    "    df = df.merge(to_merge, on=['track_id',  'code', 'name'], how='left')\n",
    "    df.fillna({'seconds_y':0}, inplace=True)\n",
    "    df['time_from_start'] = df.seconds_x-df.seconds_y\n",
    "    \n",
    "    for col in ['time_from_start', 'height', 'longitude', 'latitude']:\n",
    "        for i in [1, 10, 100, 200]:\n",
    "            df[f'diff_{i}_{col}'] = abs(np.where(df.track_id == df.track_id.shift(1), df[col].diff(periods=i), 0))\n",
    "    \n",
    "    for col in [ 'height', 'longitude', 'latitude']:\n",
    "        for i in [1, 10, 100, 200]:\n",
    "            df[f'diff_{i}_{col}/sec'] = abs(df[f'diff_{i}_{col}']/df[f'diff_{i}_time_from_start'])\n",
    "            \n",
    "    df.replace([np.inf, -np.inf, np.nan, -np.nan], -1, inplace=True) \n",
    "    \n",
    "    df.drop(columns=['time', 'seconds_x', 'date_time',  'group_num', 'seconds_y'], inplace=True)\n",
    "    \n",
    "    df['full_id'] =  df[\"name\"] + '_'+ df[\"track_id\"].astype(str) \n",
    "    \n",
    "    return df\n"
   ]
  },
  {
   "cell_type": "code",
   "execution_count": 94,
   "metadata": {
    "scrolled": true
   },
   "outputs": [
    {
     "name": "stderr",
     "output_type": "stream",
     "text": [
      "<ipython-input-93-12d111bff650>:5: SettingWithCopyWarning: \n",
      "A value is trying to be set on a copy of a slice from a DataFrame.\n",
      "Try using .loc[row_indexer,col_indexer] = value instead\n",
      "\n",
      "See the caveats in the documentation: https://pandas.pydata.org/pandas-docs/stable/user_guide/indexing.html#returning-a-view-versus-a-copy\n",
      "  df['date_time'] = pd.to_datetime(df['time'])\n",
      "<ipython-input-93-12d111bff650>:8: SettingWithCopyWarning: \n",
      "A value is trying to be set on a copy of a slice from a DataFrame.\n",
      "Try using .loc[row_indexer,col_indexer] = value instead\n",
      "\n",
      "See the caveats in the documentation: https://pandas.pydata.org/pandas-docs/stable/user_guide/indexing.html#returning-a-view-versus-a-copy\n",
      "  df['period'] = (df['date_time'].dt.hour % 24 + 4) // 4\n",
      "/Users/devdariya/opt/anaconda3/lib/python3.8/site-packages/pandas/core/series.py:4509: SettingWithCopyWarning: \n",
      "A value is trying to be set on a copy of a slice from a DataFrame\n",
      "\n",
      "See the caveats in the documentation: https://pandas.pydata.org/pandas-docs/stable/user_guide/indexing.html#returning-a-view-versus-a-copy\n",
      "  return super().replace(\n"
     ]
    }
   ],
   "source": [
    "df = make_dataset(good)"
   ]
  },
  {
   "cell_type": "code",
   "execution_count": 108,
   "metadata": {},
   "outputs": [
    {
     "name": "stderr",
     "output_type": "stream",
     "text": [
      "<ipython-input-107-11a103465d68>:5: SettingWithCopyWarning: \n",
      "A value is trying to be set on a copy of a slice from a DataFrame.\n",
      "Try using .loc[row_indexer,col_indexer] = value instead\n",
      "\n",
      "See the caveats in the documentation: https://pandas.pydata.org/pandas-docs/stable/user_guide/indexing.html#returning-a-view-versus-a-copy\n",
      "  df['date_time'] = pd.to_datetime(df['time'])\n",
      "<ipython-input-107-11a103465d68>:8: SettingWithCopyWarning: \n",
      "A value is trying to be set on a copy of a slice from a DataFrame.\n",
      "Try using .loc[row_indexer,col_indexer] = value instead\n",
      "\n",
      "See the caveats in the documentation: https://pandas.pydata.org/pandas-docs/stable/user_guide/indexing.html#returning-a-view-versus-a-copy\n",
      "  df['period'] = (df['date_time'].dt.hour % 24 + 4) // 4\n",
      "/Users/devdariya/opt/anaconda3/lib/python3.8/site-packages/pandas/core/series.py:4509: SettingWithCopyWarning: \n",
      "A value is trying to be set on a copy of a slice from a DataFrame\n",
      "\n",
      "See the caveats in the documentation: https://pandas.pydata.org/pandas-docs/stable/user_guide/indexing.html#returning-a-view-versus-a-copy\n",
      "  return super().replace(\n"
     ]
    }
   ],
   "source": [
    "df_bad = make_dataset(bad)"
   ]
  },
  {
   "cell_type": "markdown",
   "metadata": {},
   "source": [
    "## Сборка расширенного набора признаков"
   ]
  },
  {
   "cell_type": "code",
   "execution_count": 2,
   "metadata": {},
   "outputs": [],
   "source": [
    "from tsfresh import extract_features, extract_relevant_features, select_features\n",
    "from tsfresh.utilities.dataframe_functions import make_forecasting_frame\n",
    "from tsfresh.utilities.dataframe_functions import impute\n",
    "from tsfresh.feature_extraction import MinimalFCParameters, EfficientFCParameters ,ComprehensiveFCParameters\n",
    "\n",
    "from tqdm import tqdm_notebook as tqdm"
   ]
  },
  {
   "cell_type": "code",
   "execution_count": 125,
   "metadata": {},
   "outputs": [],
   "source": [
    "params = {'variance_larger_than_standard_deviation': None,\n",
    " 'sum_values': None,\n",
    " 'abs_energy': None,\n",
    " 'mean_abs_change': None,\n",
    " 'mean_change': None,\n",
    " 'mean_second_derivative_central': None,\n",
    " 'median': None,\n",
    " 'mean': None,\n",
    " 'length': None,\n",
    " 'standard_deviation': None,\n",
    " 'variance': None,\n",
    " 'skewness': None,\n",
    " 'kurtosis': None,\n",
    " 'absolute_sum_of_changes': None,\n",
    " 'longest_strike_below_mean': None,\n",
    " 'longest_strike_above_mean': None,\n",
    " 'count_above_mean': None,\n",
    " 'count_below_mean': None,\n",
    " 'last_location_of_maximum': None,\n",
    " 'first_location_of_maximum': None,\n",
    " 'last_location_of_minimum': None,\n",
    " 'first_location_of_minimum': None,\n",
    " 'ratio_value_number_to_time_series_length': None,\n",
    " 'maximum': None,\n",
    " 'minimum': None,\n",
    " 'c3': [{'lag': 1}, {'lag': 2}, {'lag': 3}],\n",
    " 'cid_ce': [{'normalize': True}, {'normalize': False}],\n",
    " 'quantile': [\n",
    "  {'q': 0.8},\n",
    "  {'q': 0.9},\n",
    "  {'q': 0.99}],\n",
    " 'autocorrelation': [\n",
    "  {'lag': 200},\n",
    "  {'lag': 100},\n",
    "  {'lag': 10}],\n",
    " 'partial_autocorrelation': [\n",
    "  {'lag': 200},\n",
    "  {'lag': 100},\n",
    "  {'lag': 10}],\n",
    " 'number_cwt_peaks': [{'n': 1}, {'n': 5}],\n",
    " 'number_peaks': [{'n': 5}, {'n': 10}, {'n': 50}],\n",
    " 'ar_coefficient': [\n",
    "  {'coeff': 2, 'k': 10},\n",
    "  {'coeff': 3, 'k': 10},\n",
    "  {'coeff': 4, 'k': 10}],\n",
    " 'linear_trend': [{'attr': 'pvalue'},\n",
    "                  {'attr': 'stderr'}],\n",
    " 'augmented_dickey_fuller': [{'attr': 'teststat'},\n",
    "  {'attr': 'pvalue'},\n",
    "  {'attr': 'usedlag'}],\n",
    " 'ratio_beyond_r_sigma': [{'r': 0.5},\n",
    "  {'r': 1.5},\n",
    "  {'r': 2},\n",
    "  {'r': 2.5}]}"
   ]
  },
  {
   "cell_type": "code",
   "execution_count": 126,
   "metadata": {},
   "outputs": [],
   "source": [
    "def make_features(df):\n",
    "    \n",
    "    ts = df.drop(['code', 'period', 'name'], axis=1)\n",
    "    \n",
    "    columns_to_use = ['full_id', 'time_from_start',\n",
    "                  'latitude', 'longitude', 'height',\n",
    "                  'diff_1_time_from_start', 'diff_3_time_from_start','diff_10_time_from_start', \n",
    "                  'diff_1_height/sec', 'diff_3_height/sec',\n",
    "               'diff_10_height/sec', 'diff_1_longitude/sec', 'diff_3_longitude/sec',\n",
    "               'diff_10_longitude/sec', 'diff_1_latitude/sec', 'diff_3_latitude/sec',\n",
    "               'diff_10_latitude/sec']\n",
    "    \n",
    "    tst =  extract_features(ts[columns_to_use],\n",
    "                            column_id = \"full_id\", \n",
    "                            column_sort = \"time_from_start\", \n",
    "                            impute_function=impute, \n",
    "                            default_fc_parameters=params,\n",
    "                            n_jobs=8,\n",
    "                            show_warnings=False)\n",
    "    \n",
    "    return tst \n"
   ]
  },
  {
   "cell_type": "code",
   "execution_count": 127,
   "metadata": {
    "scrolled": true
   },
   "outputs": [
    {
     "name": "stderr",
     "output_type": "stream",
     "text": [
      "Feature Extraction: 100%|██████████| 40/40 [09:33<00:00, 14.33s/it] \n"
     ]
    }
   ],
   "source": [
    "df_good_feat = make_features(df)"
   ]
  },
  {
   "cell_type": "code",
   "execution_count": 128,
   "metadata": {},
   "outputs": [
    {
     "name": "stderr",
     "output_type": "stream",
     "text": [
      "Feature Extraction: 100%|██████████| 40/40 [12:42<00:00, 19.06s/it]  \n"
     ]
    }
   ],
   "source": [
    "df_bad_feat = make_features(df_bad)"
   ]
  },
  {
   "cell_type": "code",
   "execution_count": 134,
   "metadata": {
    "scrolled": true
   },
   "outputs": [],
   "source": [
    "df = df.merge(df_good_feat.reset_index(), left_on='full_id', right_on='index', how='left')\n",
    "df.to_parquet('good_ts_features.parquet')"
   ]
  },
  {
   "cell_type": "code",
   "execution_count": 135,
   "metadata": {},
   "outputs": [],
   "source": [
    "df_bad = df_bad.merge(df_bad_feat.reset_index(), left_on='full_id', right_on='index', how='left')\n",
    "df_bad.to_parquet('bad_ts_features.parquet')"
   ]
  },
  {
   "cell_type": "code",
   "execution_count": 147,
   "metadata": {},
   "outputs": [],
   "source": [
    "df['target'] = 0\n",
    "df_bad['target'] = 1"
   ]
  },
  {
   "cell_type": "code",
   "execution_count": 148,
   "metadata": {},
   "outputs": [
    {
     "data": {
      "text/plain": [
       "(1589, 682)"
      ]
     },
     "execution_count": 148,
     "metadata": {},
     "output_type": "execute_result"
    }
   ],
   "source": [
    "full_id_good_train, full_id_good_test = train_test_split(df.full_id.unique(), test_size=0.3, random_state=42)\n",
    "len(full_id_good_train), len(full_id_good_test)"
   ]
  },
  {
   "cell_type": "code",
   "execution_count": 149,
   "metadata": {},
   "outputs": [
    {
     "data": {
      "text/plain": [
       "(2028, 870)"
      ]
     },
     "execution_count": 149,
     "metadata": {},
     "output_type": "execute_result"
    }
   ],
   "source": [
    "full_id_bad_train, full_id_bad_test = train_test_split(df_bad.full_id.unique(), test_size=0.3, random_state=42)\n",
    "len(full_id_bad_train), len(full_id_bad_test)"
   ]
  },
  {
   "cell_type": "code",
   "execution_count": 151,
   "metadata": {},
   "outputs": [],
   "source": [
    "train = pd.concat([df[df.full_id.isin(full_id_good_train)],\n",
    "                   df_bad[df_bad.full_id.isin(full_id_bad_train)]], ignore_index=True)\n",
    "\n",
    "test = pd.concat([df[df.full_id.isin(full_id_good_test)],\n",
    "                   df_bad[df_bad.full_id.isin(full_id_bad_test)]], ignore_index=True)"
   ]
  },
  {
   "cell_type": "code",
   "execution_count": 152,
   "metadata": {},
   "outputs": [],
   "source": [
    "train.to_parquet('train_feat_ts.parquet')\n",
    "test.to_parquet('test_feat_ts.parquet')"
   ]
  },
  {
   "cell_type": "code",
   "execution_count": 4,
   "metadata": {},
   "outputs": [],
   "source": [
    "train = pd.read_parquet('train_feat_ts.parquet', engine='pyarrow')"
   ]
  },
  {
   "cell_type": "code",
   "execution_count": 5,
   "metadata": {},
   "outputs": [],
   "source": [
    "test = pd.read_parquet('test_feat_ts.parquet', engine='pyarrow')"
   ]
  },
  {
   "cell_type": "code",
   "execution_count": 6,
   "metadata": {
    "scrolled": true
   },
   "outputs": [
    {
     "data": {
      "text/html": [
       "<div>\n",
       "<style scoped>\n",
       "    .dataframe tbody tr th:only-of-type {\n",
       "        vertical-align: middle;\n",
       "    }\n",
       "\n",
       "    .dataframe tbody tr th {\n",
       "        vertical-align: top;\n",
       "    }\n",
       "\n",
       "    .dataframe thead th {\n",
       "        text-align: right;\n",
       "    }\n",
       "</style>\n",
       "<table border=\"1\" class=\"dataframe\">\n",
       "  <thead>\n",
       "    <tr style=\"text-align: right;\">\n",
       "      <th></th>\n",
       "      <th>track_id</th>\n",
       "      <th>latitude</th>\n",
       "      <th>longitude</th>\n",
       "      <th>height</th>\n",
       "      <th>code</th>\n",
       "      <th>name</th>\n",
       "      <th>period</th>\n",
       "      <th>time_from_start</th>\n",
       "      <th>diff_1_time_from_start</th>\n",
       "      <th>diff_3_time_from_start</th>\n",
       "      <th>...</th>\n",
       "      <th>diff_10_height/sec__linear_trend__attr_\"pvalue\"</th>\n",
       "      <th>diff_10_height/sec__linear_trend__attr_\"stderr\"</th>\n",
       "      <th>diff_10_height/sec__augmented_dickey_fuller__attr_\"teststat\"__autolag_\"AIC\"</th>\n",
       "      <th>diff_10_height/sec__augmented_dickey_fuller__attr_\"pvalue\"__autolag_\"AIC\"</th>\n",
       "      <th>diff_10_height/sec__augmented_dickey_fuller__attr_\"usedlag\"__autolag_\"AIC\"</th>\n",
       "      <th>diff_10_height/sec__ratio_beyond_r_sigma__r_0.5</th>\n",
       "      <th>diff_10_height/sec__ratio_beyond_r_sigma__r_1.5</th>\n",
       "      <th>diff_10_height/sec__ratio_beyond_r_sigma__r_2</th>\n",
       "      <th>diff_10_height/sec__ratio_beyond_r_sigma__r_2.5</th>\n",
       "      <th>target</th>\n",
       "    </tr>\n",
       "  </thead>\n",
       "  <tbody>\n",
       "    <tr>\n",
       "      <th>0</th>\n",
       "      <td>1</td>\n",
       "      <td>55.934620</td>\n",
       "      <td>37.272100</td>\n",
       "      <td>1219</td>\n",
       "      <td>1551.0</td>\n",
       "      <td>AFL1522</td>\n",
       "      <td>Late Night</td>\n",
       "      <td>0.0</td>\n",
       "      <td>0.0</td>\n",
       "      <td>0.0</td>\n",
       "      <td>...</td>\n",
       "      <td>4.192134e-68</td>\n",
       "      <td>0.001297</td>\n",
       "      <td>-1.704858</td>\n",
       "      <td>0.428611</td>\n",
       "      <td>17.0</td>\n",
       "      <td>0.926966</td>\n",
       "      <td>0.126404</td>\n",
       "      <td>0.044944</td>\n",
       "      <td>0.022472</td>\n",
       "      <td>0</td>\n",
       "    </tr>\n",
       "    <tr>\n",
       "      <th>1</th>\n",
       "      <td>1</td>\n",
       "      <td>55.933381</td>\n",
       "      <td>37.267583</td>\n",
       "      <td>1219</td>\n",
       "      <td>1551.0</td>\n",
       "      <td>AFL1522</td>\n",
       "      <td>Late Night</td>\n",
       "      <td>3.0</td>\n",
       "      <td>3.0</td>\n",
       "      <td>-1.0</td>\n",
       "      <td>...</td>\n",
       "      <td>4.192134e-68</td>\n",
       "      <td>0.001297</td>\n",
       "      <td>-1.704858</td>\n",
       "      <td>0.428611</td>\n",
       "      <td>17.0</td>\n",
       "      <td>0.926966</td>\n",
       "      <td>0.126404</td>\n",
       "      <td>0.044944</td>\n",
       "      <td>0.022472</td>\n",
       "      <td>0</td>\n",
       "    </tr>\n",
       "    <tr>\n",
       "      <th>2</th>\n",
       "      <td>1</td>\n",
       "      <td>55.933338</td>\n",
       "      <td>37.266435</td>\n",
       "      <td>1204</td>\n",
       "      <td>1551.0</td>\n",
       "      <td>AFL1522</td>\n",
       "      <td>Late Night</td>\n",
       "      <td>4.0</td>\n",
       "      <td>1.0</td>\n",
       "      <td>-1.0</td>\n",
       "      <td>...</td>\n",
       "      <td>4.192134e-68</td>\n",
       "      <td>0.001297</td>\n",
       "      <td>-1.704858</td>\n",
       "      <td>0.428611</td>\n",
       "      <td>17.0</td>\n",
       "      <td>0.926966</td>\n",
       "      <td>0.126404</td>\n",
       "      <td>0.044944</td>\n",
       "      <td>0.022472</td>\n",
       "      <td>0</td>\n",
       "    </tr>\n",
       "    <tr>\n",
       "      <th>3</th>\n",
       "      <td>1</td>\n",
       "      <td>55.931407</td>\n",
       "      <td>37.252316</td>\n",
       "      <td>1257</td>\n",
       "      <td>1551.0</td>\n",
       "      <td>AFL1522</td>\n",
       "      <td>Late Night</td>\n",
       "      <td>14.0</td>\n",
       "      <td>10.0</td>\n",
       "      <td>14.0</td>\n",
       "      <td>...</td>\n",
       "      <td>4.192134e-68</td>\n",
       "      <td>0.001297</td>\n",
       "      <td>-1.704858</td>\n",
       "      <td>0.428611</td>\n",
       "      <td>17.0</td>\n",
       "      <td>0.926966</td>\n",
       "      <td>0.126404</td>\n",
       "      <td>0.044944</td>\n",
       "      <td>0.022472</td>\n",
       "      <td>0</td>\n",
       "    </tr>\n",
       "    <tr>\n",
       "      <th>4</th>\n",
       "      <td>1</td>\n",
       "      <td>55.933145</td>\n",
       "      <td>37.236722</td>\n",
       "      <td>1303</td>\n",
       "      <td>1551.0</td>\n",
       "      <td>AFL1522</td>\n",
       "      <td>Late Night</td>\n",
       "      <td>24.0</td>\n",
       "      <td>10.0</td>\n",
       "      <td>21.0</td>\n",
       "      <td>...</td>\n",
       "      <td>4.192134e-68</td>\n",
       "      <td>0.001297</td>\n",
       "      <td>-1.704858</td>\n",
       "      <td>0.428611</td>\n",
       "      <td>17.0</td>\n",
       "      <td>0.926966</td>\n",
       "      <td>0.126404</td>\n",
       "      <td>0.044944</td>\n",
       "      <td>0.022472</td>\n",
       "      <td>0</td>\n",
       "    </tr>\n",
       "  </tbody>\n",
       "</table>\n",
       "<p>5 rows × 872 columns</p>\n",
       "</div>"
      ],
      "text/plain": [
       "   track_id   latitude  longitude  height    code     name      period  \\\n",
       "0         1  55.934620  37.272100    1219  1551.0  AFL1522  Late Night   \n",
       "1         1  55.933381  37.267583    1219  1551.0  AFL1522  Late Night   \n",
       "2         1  55.933338  37.266435    1204  1551.0  AFL1522  Late Night   \n",
       "3         1  55.931407  37.252316    1257  1551.0  AFL1522  Late Night   \n",
       "4         1  55.933145  37.236722    1303  1551.0  AFL1522  Late Night   \n",
       "\n",
       "   time_from_start  diff_1_time_from_start  diff_3_time_from_start  ...  \\\n",
       "0              0.0                     0.0                     0.0  ...   \n",
       "1              3.0                     3.0                    -1.0  ...   \n",
       "2              4.0                     1.0                    -1.0  ...   \n",
       "3             14.0                    10.0                    14.0  ...   \n",
       "4             24.0                    10.0                    21.0  ...   \n",
       "\n",
       "   diff_10_height/sec__linear_trend__attr_\"pvalue\"  \\\n",
       "0                                     4.192134e-68   \n",
       "1                                     4.192134e-68   \n",
       "2                                     4.192134e-68   \n",
       "3                                     4.192134e-68   \n",
       "4                                     4.192134e-68   \n",
       "\n",
       "   diff_10_height/sec__linear_trend__attr_\"stderr\"  \\\n",
       "0                                         0.001297   \n",
       "1                                         0.001297   \n",
       "2                                         0.001297   \n",
       "3                                         0.001297   \n",
       "4                                         0.001297   \n",
       "\n",
       "   diff_10_height/sec__augmented_dickey_fuller__attr_\"teststat\"__autolag_\"AIC\"  \\\n",
       "0                                          -1.704858                             \n",
       "1                                          -1.704858                             \n",
       "2                                          -1.704858                             \n",
       "3                                          -1.704858                             \n",
       "4                                          -1.704858                             \n",
       "\n",
       "   diff_10_height/sec__augmented_dickey_fuller__attr_\"pvalue\"__autolag_\"AIC\"  \\\n",
       "0                                           0.428611                           \n",
       "1                                           0.428611                           \n",
       "2                                           0.428611                           \n",
       "3                                           0.428611                           \n",
       "4                                           0.428611                           \n",
       "\n",
       "   diff_10_height/sec__augmented_dickey_fuller__attr_\"usedlag\"__autolag_\"AIC\"  \\\n",
       "0                                               17.0                            \n",
       "1                                               17.0                            \n",
       "2                                               17.0                            \n",
       "3                                               17.0                            \n",
       "4                                               17.0                            \n",
       "\n",
       "   diff_10_height/sec__ratio_beyond_r_sigma__r_0.5  \\\n",
       "0                                         0.926966   \n",
       "1                                         0.926966   \n",
       "2                                         0.926966   \n",
       "3                                         0.926966   \n",
       "4                                         0.926966   \n",
       "\n",
       "   diff_10_height/sec__ratio_beyond_r_sigma__r_1.5  \\\n",
       "0                                         0.126404   \n",
       "1                                         0.126404   \n",
       "2                                         0.126404   \n",
       "3                                         0.126404   \n",
       "4                                         0.126404   \n",
       "\n",
       "   diff_10_height/sec__ratio_beyond_r_sigma__r_2  \\\n",
       "0                                       0.044944   \n",
       "1                                       0.044944   \n",
       "2                                       0.044944   \n",
       "3                                       0.044944   \n",
       "4                                       0.044944   \n",
       "\n",
       "   diff_10_height/sec__ratio_beyond_r_sigma__r_2.5  target  \n",
       "0                                         0.022472       0  \n",
       "1                                         0.022472       0  \n",
       "2                                         0.022472       0  \n",
       "3                                         0.022472       0  \n",
       "4                                         0.022472       0  \n",
       "\n",
       "[5 rows x 872 columns]"
      ]
     },
     "execution_count": 6,
     "metadata": {},
     "output_type": "execute_result"
    }
   ],
   "source": [
    "train.head()"
   ]
  }
 ],
 "metadata": {
  "kernelspec": {
   "display_name": "Python 3",
   "language": "python",
   "name": "python3"
  },
  "language_info": {
   "codemirror_mode": {
    "name": "ipython",
    "version": 3
   },
   "file_extension": ".py",
   "mimetype": "text/x-python",
   "name": "python",
   "nbconvert_exporter": "python",
   "pygments_lexer": "ipython3",
   "version": "3.8.3"
  }
 },
 "nbformat": 4,
 "nbformat_minor": 4
}
